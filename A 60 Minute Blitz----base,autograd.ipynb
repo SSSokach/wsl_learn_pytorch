{
 "cells": [
  {
   "cell_type": "code",
   "execution_count": 2,
   "metadata": {},
   "outputs": [],
   "source": [
    "import torch\n",
    "import numpy as np"
   ]
  },
  {
   "cell_type": "code",
   "execution_count": 3,
   "metadata": {},
   "outputs": [],
   "source": [
    "x = torch.empty(5, 3)\n",
    "\n",
    "x = torch.rand(5, 3)\n",
    "\n",
    "x = torch.zeros(5, 3, dtype=torch.long)\n",
    "\n",
    "x = torch.tensor([5.5, 3])\n",
    "\n",
    "#上述创建的都是一个tensor"
   ]
  },
  {
   "cell_type": "code",
   "execution_count": 4,
   "metadata": {},
   "outputs": [],
   "source": [
    "#在已有的张量基础上。。。\n",
    "x = x.new_ones(5, 3, dtype=torch.double) ##和x有相同属性：dtype，device，除非新指定\n",
    "\n",
    "x = torch.randn_like(x, dtype=torch.float)#和x有相同size"
   ]
  },
  {
   "cell_type": "markdown",
   "metadata": {},
   "source": [
    "# 加法"
   ]
  },
  {
   "cell_type": "code",
   "execution_count": 5,
   "metadata": {},
   "outputs": [
    {
     "name": "stdout",
     "output_type": "stream",
     "text": [
      "tensor([[ 2.3762,  1.0624,  1.2193],\n",
      "        [ 0.8053, -0.1782,  2.0064],\n",
      "        [ 0.2975, -0.1549,  0.1682],\n",
      "        [-0.1698,  0.1244, -1.5436],\n",
      "        [-0.3300,  0.6852,  1.4709]])\n"
     ]
    }
   ],
   "source": [
    "y = torch.rand(5, 3)\n",
    "print(x + y)"
   ]
  },
  {
   "cell_type": "code",
   "execution_count": 6,
   "metadata": {
    "scrolled": true
   },
   "outputs": [
    {
     "name": "stdout",
     "output_type": "stream",
     "text": [
      "tensor([[ 2.3762,  1.0624,  1.2193],\n",
      "        [ 0.8053, -0.1782,  2.0064],\n",
      "        [ 0.2975, -0.1549,  0.1682],\n",
      "        [-0.1698,  0.1244, -1.5436],\n",
      "        [-0.3300,  0.6852,  1.4709]])\n"
     ]
    }
   ],
   "source": [
    "#指定结果\n",
    "result = torch.empty(5, 3)\n",
    "torch.add(x, y, out=result)\n",
    "print(result)"
   ]
  },
  {
   "cell_type": "markdown",
   "metadata": {},
   "source": [
    "### `x.copy_(y), x.t_()` 这些带`_` 的都会改变x"
   ]
  },
  {
   "cell_type": "code",
   "execution_count": 7,
   "metadata": {},
   "outputs": [
    {
     "data": {
      "text/plain": [
       "tensor([[ 2.3762,  1.0624,  1.2193],\n",
       "        [ 0.8053, -0.1782,  2.0064],\n",
       "        [ 0.2975, -0.1549,  0.1682],\n",
       "        [-0.1698,  0.1244, -1.5436],\n",
       "        [-0.3300,  0.6852,  1.4709]])"
      ]
     },
     "execution_count": 7,
     "metadata": {},
     "output_type": "execute_result"
    }
   ],
   "source": [
    "#把x加到y上\n",
    "y.add_(x)"
   ]
  },
  {
   "cell_type": "markdown",
   "metadata": {},
   "source": [
    "# 操作"
   ]
  },
  {
   "cell_type": "code",
   "execution_count": 8,
   "metadata": {},
   "outputs": [
    {
     "data": {
      "text/plain": [
       "tensor([[ 2.3762,  1.0624,  1.2193,  0.8053, -0.1782],\n",
       "        [ 2.0064,  0.2975, -0.1549,  0.1682, -0.1698],\n",
       "        [ 0.1244, -1.5436, -0.3300,  0.6852,  1.4709]])"
      ]
     },
     "execution_count": 8,
     "metadata": {},
     "output_type": "execute_result"
    }
   ],
   "source": [
    "y.view(-1,5) #reshape"
   ]
  },
  {
   "cell_type": "code",
   "execution_count": 9,
   "metadata": {},
   "outputs": [],
   "source": [
    "#numpy tensor相互转换。\n",
    "a = np.ones(5)\n",
    "b = torch.from_numpy(a)\n",
    "\n",
    "a = torch.ones(5)\n",
    "b = a.numpy()\n"
   ]
  },
  {
   "cell_type": "code",
   "execution_count": 10,
   "metadata": {},
   "outputs": [],
   "source": [
    "#cuda tensor\n",
    "if torch.cuda.is_available():\n",
    "    device = torch.device(\"cuda\")          # CUDA device object\n",
    "    y = torch.ones_like(x, device=device)  # 直接创建cuda张量\n",
    "    x = x.to(device)                       # 用 `.to()`\n",
    "    z = x + y\n",
    "    print(z)\n",
    "    print(z.to(\"cpu\", torch.double)) "
   ]
  },
  {
   "cell_type": "markdown",
   "metadata": {},
   "source": [
    "# Autograd"
   ]
  },
  {
   "cell_type": "markdown",
   "metadata": {},
   "source": [
    "torch.Tensor的属性：\n",
    "\n",
    ".requires_grad 是否需要计算梯度\n",
    "\n",
    ".requires_grad_( ... ) 修改上述属性\n",
    "\n",
    ".backward() 计算梯度 \n",
    "**计算一次后,计算图被释放\n",
    "retain_graph=True可以保持计算图**\n",
    "\n",
    ".grad 梯度（需要先执行.backward()）\n",
    "**一个张量的梯度会累计在.gard中!!!**\n",
    "\n",
    ".detach() 停止追踪(会返回一个相同的张量,requires_grad=false)\n",
    "\n",
    "with torch.no_grad(): 在这个代码块里的任何张量都不会被追踪(即使requires_grad=true)\n",
    "\n"
   ]
  },
  {
   "cell_type": "code",
   "execution_count": 14,
   "metadata": {},
   "outputs": [
    {
     "name": "stdout",
     "output_type": "stream",
     "text": [
      "tensor([[3., 3.],\n",
      "        [3., 3.]])\n"
     ]
    }
   ],
   "source": [
    "x = torch.ones(2, 2, requires_grad=True)\n",
    "y=x+2\n",
    "z=y*y*2\n",
    "\n",
    "#z是一个张量,无法直接求backward\n",
    "# z.backward()\n",
    "\n",
    "#需要:\n",
    "# z.backward(torch.ones_like(x))\n",
    "# print(x.grad)\n",
    "\n",
    "out=z.mean()\n",
    "out.backward()\n",
    "print(x.grad)"
   ]
  },
  {
   "cell_type": "markdown",
   "metadata": {},
   "source": [
    "# 深究backward() 的grad_tensors参数"
   ]
  },
  {
   "cell_type": "code",
   "execution_count": 15,
   "metadata": {},
   "outputs": [
    {
     "name": "stdout",
     "output_type": "stream",
     "text": [
      "tensor([2., 3., 4.], requires_grad=True)\n",
      "tensor([ 512.,  768., 1024.], grad_fn=<MulBackward0>)\n",
      "tensor([256., 256., 256.])\n"
     ]
    }
   ],
   "source": [
    "x = torch.tensor([2, 3, 4], dtype=torch.float, requires_grad=True)\n",
    "print(x)\n",
    "y = x * 2\n",
    "while y.norm() < 1000:\n",
    "    y = y * 2\n",
    "print(y)\n",
    "\n",
    "y.backward(torch.ones_like(y))\n",
    "print(x.grad)"
   ]
  },
  {
   "cell_type": "markdown",
   "metadata": {},
   "source": [
    "> 为什么在求导的过程中需要引入这个参数，如果我们不引入这个参数的话，则会报下面的错误：\n",
    ">\n",
    "> RuntimeError: grad can be implicitly created only for scalar outputs\n",
    ">\n",
    "> 即为提示我们输出不是一个标量"
   ]
  },
  {
   "cell_type": "markdown",
   "metadata": {},
   "source": [
    "那实际上输出的是什么呢?\n",
    "\n",
    "如果是(向量)矩阵对(向量)矩阵求导(tensor对tensor求导)\n",
    "\n",
    "实际上是先求出Jacobian矩阵中每一个元素的梯度值，然后将这个Jacobian矩阵与grad_tensors参数对应的矩阵进行对应的点乘，得到最终的结果。"
   ]
  },
  {
   "cell_type": "code",
   "execution_count": null,
   "metadata": {},
   "outputs": [],
   "source": []
  }
 ],
 "metadata": {
  "kernelspec": {
   "display_name": "pytorch without GPU",
   "language": "python",
   "name": "pytorch"
  },
  "language_info": {
   "codemirror_mode": {
    "name": "ipython",
    "version": 3
   },
   "file_extension": ".py",
   "mimetype": "text/x-python",
   "name": "python",
   "nbconvert_exporter": "python",
   "pygments_lexer": "ipython3",
   "version": "3.7.9"
  }
 },
 "nbformat": 4,
 "nbformat_minor": 4
}
